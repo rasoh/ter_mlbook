{
 "cells": [
  {
   "cell_type": "code",
   "execution_count": 1,
   "metadata": {},
   "outputs": [],
   "source": [
    "import pandas as pd\n",
    "from sklearn.ensemble import RandomForestRegressor\n",
    "from rfpimp import *"
   ]
  },
  {
   "cell_type": "code",
   "execution_count": 3,
   "metadata": {},
   "outputs": [],
   "source": [
    "df = pd.read_csv(\"rent.csv\", parse_dates=['created'])\n",
    "df_clean = df[(df.price>1_000) & (df.price<10_000)]\n",
    "df_clean = df_clean[(df_clean.longitude!=0) | (df_clean.latitude!=0)]\n",
    "df_clean = df_clean[(df_clean['latitude']>40.55) &\n",
    "                    (df_clean['latitude']<40.94) &\n",
    "                    (df_clean['longitude']>-74.1) &\n",
    "                    (df_clean['longitude']<-73.67)]\n",
    "df = df_clean"
   ]
  },
  {
   "cell_type": "code",
   "execution_count": 5,
   "metadata": {},
   "outputs": [
    {
     "name": "stdout",
     "output_type": "stream",
     "text": [
      "0.8679483256289904\n"
     ]
    }
   ],
   "source": [
    "numfeatures = ['bathrooms', 'bedrooms', 'longitude', 'latitude']\n",
    "X, y = df[numfeatures], df['price']\n",
    "rf = RandomForestRegressor(n_estimators=100, n_jobs=-1, oob_score=True)\n",
    "rf.fit(X, y)\n",
    "oob_baseline = rf.oob_score_\n",
    "print(oob_baseline)"
   ]
  },
  {
   "cell_type": "code",
   "execution_count": 6,
   "metadata": {},
   "outputs": [
    {
     "name": "stdout",
     "output_type": "stream",
     "text": [
      "2,431,964 tree nodes and 35.0 median tree height\n"
     ]
    }
   ],
   "source": [
    "print(f\"{rfnnodes(rf):,d} tree nodes and {np.median(rfmaxdepths(rf))} median tree height\")"
   ]
  },
  {
   "cell_type": "code",
   "execution_count": 7,
   "metadata": {},
   "outputs": [
    {
     "data": {
      "image/png": "[encoded data removed]",
      "text/plain": [
       "<matplotlib.figure.Figure at 0x117c94160>"
      ]
     },
     "metadata": {},
     "output_type": "display_data"
    }
   ],
   "source": [
    "def showimp(rf, X, y):\n",
    "    features = list(X.columns)\n",
    "    features.remove('latitude')\n",
    "    features.remove('longitude')\n",
    "    features += [['latitude','longitude']]\n",
    "\n",
    "    I = importances(rf, X, y, features=features)\n",
    "    plot_importances(I, color='#4575b4')\n",
    "    \n",
    "showimp(rf, X, y)"
   ]
  },
  {
   "cell_type": "code",
   "execution_count": 8,
   "metadata": {},
   "outputs": [
    {
     "name": "stdout",
     "output_type": "stream",
     "text": [
      "low       33270\n",
      "medium    11203\n",
      "high       3827\n",
      "Name: interest_level, dtype: int64\n"
     ]
    }
   ],
   "source": [
    "print(df['interest_level'].value_counts())"
   ]
  },
  {
   "cell_type": "code",
   "execution_count": 9,
   "metadata": {},
   "outputs": [
    {
     "name": "stdout",
     "output_type": "stream",
     "text": [
      "1    33270\n",
      "2    11203\n",
      "3     3827\n",
      "Name: interest_level, dtype: int64\n"
     ]
    }
   ],
   "source": [
    "df['interest_level'] = df['interest_level'].map({'low':1,'medium':2,'high':3})\n",
    "print(df['interest_level'].value_counts())"
   ]
  },
  {
   "cell_type": "code",
   "execution_count": 10,
   "metadata": {},
   "outputs": [
    {
     "name": "stdout",
     "output_type": "stream",
     "text": [
      "OOB R^2 0.87053 using 3,023,206 tree nodes with 35.0 median tree height\n"
     ]
    }
   ],
   "source": [
    "def test(X, y):\n",
    "    rf = RandomForestRegressor(n_estimators=100, n_jobs=-1, oob_score=True)\n",
    "    rf.fit(X, y)\n",
    "    oob = rf.oob_score_\n",
    "    n = rfnnodes(rf)\n",
    "    h = np.median(rfmaxdepths(rf))\n",
    "    print(f\"OOB R^2 {oob:.5f} using {n:,d} tree nodes with {h} median tree height\")\n",
    "    return rf, oob\n",
    "\n",
    "X, y = df[['interest_level']+numfeatures], df['price']\n",
    "rf, oob = test(X, y)"
   ]
  },
  {
   "cell_type": "code",
   "execution_count": 11,
   "metadata": {},
   "outputs": [
    {
     "name": "stdout",
     "output_type": "stream",
     "text": [
      "3409 7417 8680\n"
     ]
    }
   ],
   "source": [
    "print(len(df['manager_id'].unique()), len(df['building_id'].unique()), len(df['display_address'].unique()))"
   ]
  },
  {
   "cell_type": "code",
   "execution_count": 12,
   "metadata": {},
   "outputs": [],
   "source": [
    "df['display_address_cat'] = df['display_address'].astype('category').cat.as_ordered()\n",
    "df['display_address_cat'] = df['display_address_cat'].cat.codes + 1"
   ]
  },
  {
   "cell_type": "code",
   "execution_count": 13,
   "metadata": {},
   "outputs": [
    {
     "name": "stdout",
     "output_type": "stream",
     "text": [
      "OOB R^2 0.86586 using 3,122,758 tree nodes with 37.0 median tree height\n"
     ]
    }
   ],
   "source": [
    "X, y = df[['display_address_cat']+numfeatures], df['price']\n",
    "rf, oob = test(X, y)"
   ]
  },
  {
   "cell_type": "code",
   "execution_count": 14,
   "metadata": {},
   "outputs": [
    {
     "name": "stdout",
     "output_type": "stream",
     "text": [
      "e6472c7237327dd3903b3d6f6a94515a    2509\n",
      "6e5c10246156ae5bdcd9b487ca99d96a     695\n",
      "8f5a9c893f6d602f4953fcc0b8e6e9b4     404\n",
      "62b685cc0d876c3a1a51d63a0d6a8082     396\n",
      "cb87dadbca78fad02b388dc9e8f25a5b     370\n",
      "Name: manager_id, dtype: int64\n"
     ]
    }
   ],
   "source": [
    "print(df['manager_id'].value_counts().head(5))"
   ]
  },
  {
   "cell_type": "code",
   "execution_count": 15,
   "metadata": {},
   "outputs": [],
   "source": [
    "managers_count = df['manager_id'].value_counts()\n",
    "df['mgr_apt_count'] = df['manager_id'].map(managers_count)"
   ]
  },
  {
   "cell_type": "code",
   "execution_count": 16,
   "metadata": {},
   "outputs": [
    {
     "name": "stdout",
     "output_type": "stream",
     "text": [
      "OOB R^2 0.86420 using 4,571,612 tree nodes with 41.0 median tree height\n"
     ]
    }
   ],
   "source": [
    "X, y = df[['display_address_cat','mgr_apt_count']+numfeatures], df['price']\n",
    "rf, oob = test(X, y)"
   ]
  },
  {
   "cell_type": "code",
   "execution_count": 17,
   "metadata": {},
   "outputs": [],
   "source": [
    "df['description'] = df['description'].fillna('')\n",
    "df['description'] = df['description'].str.lower() # normalize to lower case\n",
    "df['features'] = df['features'].fillna('') # fill missing w/blanks\n",
    "df['features'] = df['features'].str.lower() # normalize to lower case\n"
   ]
  },
  {
   "cell_type": "code",
   "execution_count": 18,
   "metadata": {},
   "outputs": [
    {
     "data": {
      "text/html": [
       "<div>\n",
       "<style scoped>\n",
       "    .dataframe tbody tr th:only-of-type {\n",
       "        vertical-align: middle;\n",
       "    }\n",
       "\n",
       "    .dataframe tbody tr th {\n",
       "        vertical-align: top;\n",
       "    }\n",
       "\n",
       "    .dataframe thead th {\n",
       "        text-align: right;\n",
       "    }\n",
       "</style>\n",
       "<table border=\"1\" class=\"dataframe\">\n",
       "  <thead>\n",
       "    <tr style=\"text-align: right;\">\n",
       "      <th></th>\n",
       "      <th>doorman</th>\n",
       "      <th>parking</th>\n",
       "      <th>garage</th>\n",
       "      <th>laundry</th>\n",
       "    </tr>\n",
       "  </thead>\n",
       "  <tbody>\n",
       "    <tr>\n",
       "      <th>0</th>\n",
       "      <td>False</td>\n",
       "      <td>False</td>\n",
       "      <td>False</td>\n",
       "      <td>False</td>\n",
       "    </tr>\n",
       "    <tr>\n",
       "      <th>1</th>\n",
       "      <td>True</td>\n",
       "      <td>False</td>\n",
       "      <td>False</td>\n",
       "      <td>False</td>\n",
       "    </tr>\n",
       "    <tr>\n",
       "      <th>2</th>\n",
       "      <td>False</td>\n",
       "      <td>False</td>\n",
       "      <td>False</td>\n",
       "      <td>True</td>\n",
       "    </tr>\n",
       "    <tr>\n",
       "      <th>3</th>\n",
       "      <td>False</td>\n",
       "      <td>False</td>\n",
       "      <td>False</td>\n",
       "      <td>False</td>\n",
       "    </tr>\n",
       "    <tr>\n",
       "      <th>4</th>\n",
       "      <td>False</td>\n",
       "      <td>False</td>\n",
       "      <td>False</td>\n",
       "      <td>False</td>\n",
       "    </tr>\n",
       "  </tbody>\n",
       "</table>\n",
       "</div>"
      ],
      "text/plain": [
       "   doorman  parking  garage  laundry\n",
       "0    False    False   False    False\n",
       "1     True    False   False    False\n",
       "2    False    False   False     True\n",
       "3    False    False   False    False\n",
       "4    False    False   False    False"
      ]
     },
     "execution_count": 18,
     "metadata": {},
     "output_type": "execute_result"
    }
   ],
   "source": [
    "# has apartment been renovated?\n",
    "df['renov'] = df['description'].str.contains(\"renov\")\n",
    "\n",
    "for w in ['doorman', 'parking', 'garage', 'laundry', \n",
    "          'Elevator', 'fitness center', 'dishwasher']:\n",
    "    df[w] = df['features'].str.contains(w)\n",
    "df[['doorman', 'parking', 'garage', 'laundry']].head(5)"
   ]
  },
  {
   "cell_type": "code",
   "execution_count": 19,
   "metadata": {},
   "outputs": [],
   "source": [
    "df[\"num_desc_words\"] = df[\"description\"].apply(lambda x: len(x.split()))\n",
    "df[\"num_features\"] = df[\"features\"].apply(lambda x: len(x.split(\",\")))"
   ]
  },
  {
   "cell_type": "code",
   "execution_count": 20,
   "metadata": {},
   "outputs": [],
   "source": [
    "df[\"num_photos\"] = df[\"photos\"].apply(lambda x: len(x.split(\",\")))"
   ]
  },
  {
   "cell_type": "code",
   "execution_count": 21,
   "metadata": {},
   "outputs": [
    {
     "name": "stdout",
     "output_type": "stream",
     "text": [
      "OOB R^2 0.86292 using 4,765,380 tree nodes with 43.0 median tree height\n"
     ]
    }
   ],
   "source": [
    "textfeatures = [\n",
    "    'num_photos', 'num_desc_words', 'num_features',\n",
    "    'doorman', 'parking', 'garage', 'laundry', \n",
    "    'Elevator', 'fitness center', 'dishwasher',\n",
    "    'renov'\n",
    "]\n",
    "X, y = df[textfeatures+numfeatures], df['price']\n",
    "rf, oob = test(X, y)"
   ]
  },
  {
   "cell_type": "code",
   "execution_count": 22,
   "metadata": {},
   "outputs": [
    {
     "data": {
      "image/png": "[encoded data removed]",
      "text/plain": [
       "<matplotlib.figure.Figure at 0x1a1ec42908>"
      ]
     },
     "metadata": {},
     "output_type": "display_data"
    }
   ],
   "source": [
    "showimp(rf, X, y)"
   ]
  },
  {
   "cell_type": "code",
   "execution_count": 24,
   "metadata": {},
   "outputs": [
    {
     "name": "stdout",
     "output_type": "stream",
     "text": [
      "OOB R^2 0.86839 using 2,433,354 tree nodes with 35.0 median tree height\n"
     ]
    }
   ],
   "source": [
    "df[\"beds_to_baths\"] = df[\"bedrooms\"]/(df[\"bathrooms\"]+1) # avoid div by 0\n",
    "X, y = df[['beds_to_baths']+numfeatures], df['price']\n",
    "rf, oob = test(X, y)"
   ]
  },
  {
   "cell_type": "code",
   "execution_count": 25,
   "metadata": {},
   "outputs": [
    {
     "name": "stdout",
     "output_type": "stream",
     "text": [
      "OOB R^2 0.98621 using 1,311,596 tree nodes with 31.0 median tree height\n"
     ]
    }
   ],
   "source": [
    "df[\"beds_per_price\"] = df[\"bedrooms\"] / df[\"price\"]\n",
    "X, y = df[['beds_per_price']+numfeatures], df['price']\n",
    "rf, oob = test(X, y)"
   ]
  },
  {
   "cell_type": "code",
   "execution_count": 26,
   "metadata": {},
   "outputs": [
    {
     "data": {
      "text/html": [
       "<div>\n",
       "<style scoped>\n",
       "    .dataframe tbody tr th:only-of-type {\n",
       "        vertical-align: middle;\n",
       "    }\n",
       "\n",
       "    .dataframe tbody tr th {\n",
       "        vertical-align: top;\n",
       "    }\n",
       "\n",
       "    .dataframe thead th {\n",
       "        text-align: right;\n",
       "    }\n",
       "</style>\n",
       "<table border=\"1\" class=\"dataframe\">\n",
       "  <thead>\n",
       "    <tr style=\"text-align: right;\">\n",
       "      <th></th>\n",
       "      <th>beds_per_price</th>\n",
       "      <th>bedrooms</th>\n",
       "    </tr>\n",
       "  </thead>\n",
       "  <tbody>\n",
       "    <tr>\n",
       "      <th>6794</th>\n",
       "      <td>0.000573</td>\n",
       "      <td>1</td>\n",
       "    </tr>\n",
       "    <tr>\n",
       "      <th>41217</th>\n",
       "      <td>0.000301</td>\n",
       "      <td>1</td>\n",
       "    </tr>\n",
       "    <tr>\n",
       "      <th>48750</th>\n",
       "      <td>0.001071</td>\n",
       "      <td>3</td>\n",
       "    </tr>\n",
       "    <tr>\n",
       "      <th>11915</th>\n",
       "      <td>0.000000</td>\n",
       "      <td>0</td>\n",
       "    </tr>\n",
       "    <tr>\n",
       "      <th>33441</th>\n",
       "      <td>0.000857</td>\n",
       "      <td>3</td>\n",
       "    </tr>\n",
       "  </tbody>\n",
       "</table>\n",
       "</div>"
      ],
      "text/plain": [
       "       beds_per_price  bedrooms\n",
       "6794         0.000573         1\n",
       "41217        0.000301         1\n",
       "48750        0.001071         3\n",
       "11915        0.000000         0\n",
       "33441        0.000857         3"
      ]
     },
     "execution_count": 26,
     "metadata": {},
     "output_type": "execute_result"
    }
   ],
   "source": [
    "from sklearn.model_selection import train_test_split\n",
    "df_train, df_test = train_test_split(df, test_size=0.20)\n",
    "df_train = df_train.copy()\n",
    "df_train['beds_per_price'] = df_train['bedrooms'] / df_train[\"price\"]\n",
    "df_train[['beds_per_price','bedrooms']].head(5)"
   ]
  },
  {
   "cell_type": "code",
   "execution_count": 27,
   "metadata": {},
   "outputs": [
    {
     "name": "stdout",
     "output_type": "stream",
     "text": [
      "2683     0.000000\n",
      "39378    0.001026\n",
      "48037    0.000000\n",
      "44371    0.000408\n",
      "42219    0.001026\n",
      "Name: beds_per_price, dtype: float64\n"
     ]
    }
   ],
   "source": [
    "bpmap = dict(zip(df_train[\"bedrooms\"],df_train[\"beds_per_price\"]))\n",
    "df_test = df_test.copy()\n",
    "df_test[\"beds_per_price\"] = df_test[\"bedrooms\"].map(bpmap)\n",
    "avg = np.mean(df_test['beds_per_price'])\n",
    "df_test['beds_per_price'].fillna(avg, inplace=True)\n",
    "print(df_test['beds_per_price'].head(5))"
   ]
  },
  {
   "cell_type": "code",
   "execution_count": 29,
   "metadata": {},
   "outputs": [
    {
     "name": "stdout",
     "output_type": "stream",
     "text": [
      "OOB R^2 -0.38451\n",
      "1,164,264 nodes, 31.0 median height\n"
     ]
    }
   ],
   "source": [
    "X_train, y_train = df_train[['beds_per_price']+numfeatures], df_train['price']\n",
    "X_test, y_test = df_test[['beds_per_price']+numfeatures], df_test['price']\n",
    "\n",
    "rf = RandomForestRegressor(n_estimators=100, n_jobs=-1)\n",
    "rf.fit(X_train, y_train)\n",
    "oob_overfit = rf.score(X_test, y_test) # don't test training set\n",
    "print(f\"OOB R^2 {oob_overfit:.5f}\")\n",
    "print(f\"{rfnnodes(rf):,d} nodes, {np.median(rfmaxdepths(rf))} median height\")"
   ]
  },
  {
   "cell_type": "code",
   "execution_count": 30,
   "metadata": {},
   "outputs": [
    {
     "data": {
      "text/html": [
       "<div>\n",
       "<style scoped>\n",
       "    .dataframe tbody tr th:only-of-type {\n",
       "        vertical-align: middle;\n",
       "    }\n",
       "\n",
       "    .dataframe tbody tr th {\n",
       "        vertical-align: top;\n",
       "    }\n",
       "\n",
       "    .dataframe thead th {\n",
       "        text-align: right;\n",
       "    }\n",
       "</style>\n",
       "<table border=\"1\" class=\"dataframe\">\n",
       "  <thead>\n",
       "    <tr style=\"text-align: right;\">\n",
       "      <th></th>\n",
       "      <th>price</th>\n",
       "    </tr>\n",
       "    <tr>\n",
       "      <th>building_id</th>\n",
       "      <th></th>\n",
       "    </tr>\n",
       "  </thead>\n",
       "  <tbody>\n",
       "    <tr>\n",
       "      <th>0</th>\n",
       "      <td>3195.9321</td>\n",
       "    </tr>\n",
       "    <tr>\n",
       "      <th>00005cb939f9986300d987652c933e15</th>\n",
       "      <td>3399.0000</td>\n",
       "    </tr>\n",
       "    <tr>\n",
       "      <th>00024d77a43f0606f926e2312513845c</th>\n",
       "      <td>2000.0000</td>\n",
       "    </tr>\n",
       "    <tr>\n",
       "      <th>000ae4b7db298401cdae2b0ba1ea8146</th>\n",
       "      <td>2400.0000</td>\n",
       "    </tr>\n",
       "    <tr>\n",
       "      <th>0012f1955391bca600ec301035b97b65</th>\n",
       "      <td>3700.0000</td>\n",
       "    </tr>\n",
       "  </tbody>\n",
       "</table>\n",
       "</div>"
      ],
      "text/plain": [
       "                                      price\n",
       "building_id                                \n",
       "0                                 3195.9321\n",
       "00005cb939f9986300d987652c933e15  3399.0000\n",
       "00024d77a43f0606f926e2312513845c  2000.0000\n",
       "000ae4b7db298401cdae2b0ba1ea8146  2400.0000\n",
       "0012f1955391bca600ec301035b97b65  3700.0000"
      ]
     },
     "execution_count": 30,
     "metadata": {},
     "output_type": "execute_result"
    }
   ],
   "source": [
    "df.groupby('building_id').mean()[['price']].head(5)"
   ]
  },
  {
   "cell_type": "code",
   "execution_count": 31,
   "metadata": {},
   "outputs": [
    {
     "name": "stdout",
     "output_type": "stream",
     "text": [
      "OOB R^2 0.87257 using 2,745,934 tree nodes with 39.0 median tree height\n"
     ]
    }
   ],
   "source": [
    "from category_encoders.target_encoder import TargetEncoder\n",
    "df = df.reset_index() # not sure why TargetEncoder needs this but it does\n",
    "targetfeatures = ['building_id']\n",
    "encoder = TargetEncoder(cols=targetfeatures)\n",
    "encoder.fit(df, df['price'])\n",
    "df_encoded = encoder.transform(df, df['price'])\n",
    "\n",
    "X, y = df_encoded[targetfeatures+numfeatures], df['price']\n",
    "rf, oob = test(X, y)"
   ]
  },
  {
   "cell_type": "code",
   "execution_count": 32,
   "metadata": {},
   "outputs": [
    {
     "name": "stdout",
     "output_type": "stream",
     "text": [
      "0.858321 score 2,124,088 tree nodes and 35.0 median tree height\n"
     ]
    }
   ],
   "source": [
    "df_train, df_test = train_test_split(df, test_size=0.20)\n",
    "\n",
    "# TargetEncoder needs the resets, not sure why\n",
    "df_train = df_train.reset_index(drop=True)\n",
    "df_test = df_test.reset_index(drop=True)\n",
    "\n",
    "X_train = df_train[numfeatures]\n",
    "y_train = df_train['price']\n",
    "X_test = df_test[numfeatures]\n",
    "y_test = df_test['price']\n",
    "\n",
    "rf = RandomForestRegressor(n_estimators=100, n_jobs=-1)\n",
    "rf.fit(X_train, y_train)\n",
    "s_validation = rf.score(X_test, y_test)\n",
    "print(f\"{s_validation:4f} score {rfnnodes(rf):,d} tree nodes and {np.median(rfmaxdepths(rf))} median tree height\")"
   ]
  },
  {
   "cell_type": "code",
   "execution_count": 33,
   "metadata": {},
   "outputs": [
    {
     "name": "stdout",
     "output_type": "stream",
     "text": [
      "0.8576 score 2,379,492 tree nodes and 37.0 median tree height\n"
     ]
    }
   ],
   "source": [
    "enc = TargetEncoder(cols=targetfeatures)\n",
    "enc.fit(df_train, df_train['price'])\n",
    "df_train_encoded = enc.transform(df_train, df_train['price'])\n",
    "df_test_encoded = enc.transform(df_test)\n",
    "\n",
    "X_train = df_train_encoded[targetfeatures+numfeatures]\n",
    "y_train = df_train_encoded['price']\n",
    "X_test = df_test_encoded[targetfeatures+numfeatures]\n",
    "y_test = df_test_encoded['price']\n",
    "\n",
    "rf = RandomForestRegressor(n_estimators=100, n_jobs=-1)\n",
    "rf.fit(X_train, y_train)\n",
    "s_tenc_validation = rf.score(X_test, y_test)\n",
    "print(f\"{s_tenc_validation:.4f} score {rfnnodes(rf):,d} tree nodes and {np.median(rfmaxdepths(rf))} median tree height\")"
   ]
  },
  {
   "cell_type": "code",
   "execution_count": 34,
   "metadata": {},
   "outputs": [],
   "source": [
    "hoods = {\n",
    "    \"hells\" : [40.7622, -73.9924],\n",
    "    \"astoria\" : [40.7796684, -73.9215888],\n",
    "    \"Evillage\" : [40.723163774, -73.984829394],\n",
    "    \"Wvillage\" : [40.73578, -74.00357],\n",
    "    \"LowerEast\" : [40.715033, -73.9842724],\n",
    "    \"UpperEast\" : [40.768163594, -73.959329496],\n",
    "    \"ParkSlope\" : [40.672404, -73.977063],\n",
    "    \"Prospect Park\" : [40.93704, -74.17431],\n",
    "    \"Crown Heights\" : [40.657830702, -73.940162906],\n",
    "    \"financial\" : [40.703830518, -74.005666644],\n",
    "    \"brooklynheights\" : [40.7022621909, -73.9871760513],\n",
    "    \"gowanus\" : [40.673, -73.997]\n",
    "}"
   ]
  },
  {
   "cell_type": "code",
   "execution_count": 35,
   "metadata": {},
   "outputs": [],
   "source": [
    "for hood,loc in hoods.items():\n",
    "    # compute manhattan distance\n",
    "    df[hood] = np.abs(df.latitude - loc[0]) + np.abs(df.longitude - loc[1])"
   ]
  },
  {
   "cell_type": "code",
   "execution_count": 36,
   "metadata": {},
   "outputs": [
    {
     "name": "stdout",
     "output_type": "stream",
     "text": [
      "OOB R^2 0.87335 using 2,412,732 tree nodes with 43.0 median tree height\n"
     ]
    }
   ],
   "source": [
    "hoodfeatures = list(hoods.keys())\n",
    "X, y = df[numfeatures+hoodfeatures], df['price']\n",
    "rf, oob_hood = test(X, y)"
   ]
  },
  {
   "cell_type": "code",
   "execution_count": 37,
   "metadata": {},
   "outputs": [
    {
     "name": "stdout",
     "output_type": "stream",
     "text": [
      "0.8698 score 2,422,538 tree nodes and 41.0 median tree height\n"
     ]
    }
   ],
   "source": [
    "X = X.drop(['longitude','latitude'],axis=1)\n",
    "rf = RandomForestRegressor(n_estimators=100, n_jobs=-1, oob_score=True)\n",
    "rf.fit(X, y)\n",
    "print(f\"{rf.oob_score_:.4f} score {rfnnodes(rf):,d} tree nodes and {np.median(rfmaxdepths(rf))} median tree height\")"
   ]
  },
  {
   "cell_type": "code",
   "execution_count": 38,
   "metadata": {},
   "outputs": [
    {
     "name": "stdout",
     "output_type": "stream",
     "text": [
      "OOB R^2 0.87865 using 4,839,026 tree nodes with 44.0 median tree height\n"
     ]
    }
   ],
   "source": [
    "X = df[['interest_level']+textfeatures+hoodfeatures+numfeatures]\n",
    "rf, oob_combined = test(X, y)"
   ]
  },
  {
   "cell_type": "code",
   "execution_count": null,
   "metadata": {},
   "outputs": [],
   "source": []
  }
 ],
 "metadata": {
  "kernelspec": {
   "display_name": "Python 3",
   "language": "python",
   "name": "python3"
  },
  "language_info": {
   "codemirror_mode": {
    "name": "ipython",
    "version": 3
   },
   "file_extension": ".py",
   "mimetype": "text/x-python",
   "name": "python",
   "nbconvert_exporter": "python",
   "pygments_lexer": "ipython3",
   "version": "3.6.4"
  }
 },
 "nbformat": 4,
 "nbformat_minor": 2
}
