{
 "cells": [
  {
   "cell_type": "code",
   "execution_count": 2,
   "metadata": {},
   "outputs": [],
   "source": [
    "import pandas as pd\n",
    "from sklearn.ensemble import RandomForestRegressor\n",
    "from rfpimp import *"
   ]
  },
  {
   "cell_type": "code",
   "execution_count": 3,
   "metadata": {},
   "outputs": [],
   "source": [
    "df = pd.read_csv(\"rent.csv\", parse_dates=['created'])\n",
    "df_clean = df[(df.price>1_000) & (df.price<10_000)]\n",
    "df_clean = df_clean[(df_clean.longitude!=0) | (df_clean.latitude!=0)]\n",
    "df_clean = df_clean[(df_clean['latitude']>40.55) &\n",
    "                    (df_clean['latitude']<40.94) &\n",
    "                    (df_clean['longitude']>-74.1) &\n",
    "                    (df_clean['longitude']<-73.67)]\n",
    "df = df_clean"
   ]
  },
  {
   "cell_type": "code",
   "execution_count": 4,
   "metadata": {},
   "outputs": [
    {
     "name": "stdout",
     "output_type": "stream",
     "text": [
      "0.8669058460778184\n"
     ]
    }
   ],
   "source": [
    "numfeatures = ['bathrooms', 'bedrooms', 'longitude', 'latitude']\n",
    "X, y = df[numfeatures], df['price']\n",
    "rf = RandomForestRegressor(n_estimators=100, n_jobs=-1, oob_score=True)\n",
    "rf.fit(X, y)\n",
    "oob_baseline = rf.oob_score_\n",
    "print(oob_baseline)"
   ]
  },
  {
   "cell_type": "code",
   "execution_count": 5,
   "metadata": {},
   "outputs": [
    {
     "name": "stdout",
     "output_type": "stream",
     "text": [
      "2,432,708 tree nodes and 35.0 median tree height\n"
     ]
    }
   ],
   "source": [
    "print(f\"{rfnnodes(rf):,d} tree nodes and {np.median(rfmaxdepths(rf))} median tree height\")"
   ]
  },
  {
   "cell_type": "code",
   "execution_count": 6,
   "metadata": {},
   "outputs": [
    {
     "data": {
      "image/png": "[encoded data removed]",
      "text/plain": [
       "<matplotlib.figure.Figure at 0x115e7d9e8>"
      ]
     },
     "metadata": {},
     "output_type": "display_data"
    }
   ],
   "source": [
    "def showimp(rf, X, y):\n",
    "    features = list(X.columns)\n",
    "    features.remove('latitude')\n",
    "    features.remove('longitude')\n",
    "    features += [['latitude','longitude']]\n",
    "\n",
    "    I = importances(rf, X, y, features=features)\n",
    "    plot_importances(I, color='#4575b4')\n",
    "    \n",
    "showimp(rf, X, y)"
   ]
  },
  {
   "cell_type": "code",
   "execution_count": 7,
   "metadata": {},
   "outputs": [
    {
     "name": "stdout",
     "output_type": "stream",
     "text": [
      "low       33270\n",
      "medium    11203\n",
      "high       3827\n",
      "Name: interest_level, dtype: int64\n"
     ]
    }
   ],
   "source": [
    "print(df['interest_level'].value_counts())"
   ]
  },
  {
   "cell_type": "code",
   "execution_count": 8,
   "metadata": {},
   "outputs": [
    {
     "name": "stdout",
     "output_type": "stream",
     "text": [
      "1    33270\n",
      "2    11203\n",
      "3     3827\n",
      "Name: interest_level, dtype: int64\n"
     ]
    }
   ],
   "source": [
    "df['interest_level'] = df['interest_level'].map({'low':1,'medium':2,'high':3})\n",
    "print(df['interest_level'].value_counts())"
   ]
  },
  {
   "cell_type": "code",
   "execution_count": 9,
   "metadata": {},
   "outputs": [
    {
     "name": "stdout",
     "output_type": "stream",
     "text": [
      "OOB R^2 0.87059 using 3,023,256 tree nodes with 35.0 median tree height\n"
     ]
    }
   ],
   "source": [
    "def test(X, y):\n",
    "    rf = RandomForestRegressor(n_estimators=100, n_jobs=-1, oob_score=True)\n",
    "    rf.fit(X, y)\n",
    "    oob = rf.oob_score_\n",
    "    n = rfnnodes(rf)\n",
    "    h = np.median(rfmaxdepths(rf))\n",
    "    print(f\"OOB R^2 {oob:.5f} using {n:,d} tree nodes with {h} median tree height\")\n",
    "    return rf, oob\n",
    "\n",
    "X, y = df[['interest_level']+numfeatures], df['price']\n",
    "rf, oob = test(X, y)"
   ]
  },
  {
   "cell_type": "code",
   "execution_count": 10,
   "metadata": {},
   "outputs": [
    {
     "name": "stdout",
     "output_type": "stream",
     "text": [
      "3409 7417 8680\n"
     ]
    }
   ],
   "source": [
    "print(len(df['manager_id'].unique()), len(df['building_id'].unique()), len(df['display_address'].unique()))"
   ]
  },
  {
   "cell_type": "code",
   "execution_count": 11,
   "metadata": {},
   "outputs": [],
   "source": [
    "df['display_address_cat'] = df['display_address'].astype('category').cat.as_ordered()\n",
    "df['display_address_cat'] = df['display_address_cat'].cat.codes + 1"
   ]
  },
  {
   "cell_type": "code",
   "execution_count": 12,
   "metadata": {},
   "outputs": [
    {
     "name": "stdout",
     "output_type": "stream",
     "text": [
      "OOB R^2 0.86575 using 3,123,076 tree nodes with 38.0 median tree height\n"
     ]
    }
   ],
   "source": [
    "X, y = df[['display_address_cat']+numfeatures], df['price']\n",
    "rf, oob = test(X, y)"
   ]
  },
  {
   "cell_type": "code",
   "execution_count": 13,
   "metadata": {},
   "outputs": [
    {
     "name": "stdout",
     "output_type": "stream",
     "text": [
      "e6472c7237327dd3903b3d6f6a94515a    2509\n",
      "6e5c10246156ae5bdcd9b487ca99d96a     695\n",
      "8f5a9c893f6d602f4953fcc0b8e6e9b4     404\n",
      "62b685cc0d876c3a1a51d63a0d6a8082     396\n",
      "cb87dadbca78fad02b388dc9e8f25a5b     370\n",
      "Name: manager_id, dtype: int64\n"
     ]
    }
   ],
   "source": [
    "print(df['manager_id'].value_counts().head(5))"
   ]
  },
  {
   "cell_type": "code",
   "execution_count": 14,
   "metadata": {},
   "outputs": [],
   "source": [
    "managers_count = df['manager_id'].value_counts()\n",
    "df['mgr_apt_count'] = df['manager_id'].map(managers_count)"
   ]
  },
  {
   "cell_type": "code",
   "execution_count": 15,
   "metadata": {},
   "outputs": [
    {
     "name": "stdout",
     "output_type": "stream",
     "text": [
      "OOB R^2 0.86487 using 4,569,538 tree nodes with 40.0 median tree height\n"
     ]
    }
   ],
   "source": [
    "X, y = df[['display_address_cat','mgr_apt_count']+numfeatures], df['price']\n",
    "rf, oob = test(X, y)"
   ]
  },
  {
   "cell_type": "code",
   "execution_count": null,
   "metadata": {},
   "outputs": [],
   "source": []
  }
 ],
 "metadata": {
  "kernelspec": {
   "display_name": "Python 3",
   "language": "python",
   "name": "python3"
  },
  "language_info": {
   "codemirror_mode": {
    "name": "ipython",
    "version": 3
   },
   "file_extension": ".py",
   "mimetype": "text/x-python",
   "name": "python",
   "nbconvert_exporter": "python",
   "pygments_lexer": "ipython3",
   "version": "3.6.4"
  }
 },
 "nbformat": 4,
 "nbformat_minor": 2
}
